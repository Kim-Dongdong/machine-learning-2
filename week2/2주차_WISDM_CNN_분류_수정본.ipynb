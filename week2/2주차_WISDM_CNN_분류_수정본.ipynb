{
  "nbformat": 4,
  "nbformat_minor": 0,
  "metadata": {
    "colab": {
      "provenance": []
    },
    "kernelspec": {
      "name": "python3",
      "display_name": "Python 3"
    },
    "language_info": {
      "name": "python"
    }
  },
  "cells": [
    {
      "cell_type": "code",
      "execution_count": 1,
      "metadata": {
        "id": "4D-_wCJqwVsT"
      },
      "outputs": [],
      "source": [
        "# 1) 라이브러리\n",
        "import os, re, random, math\n",
        "import numpy as np\n",
        "import pandas as pd\n",
        "\n",
        "from sklearn.preprocessing import StandardScaler, LabelEncoder\n",
        "from sklearn.metrics import classification_report, confusion_matrix, ConfusionMatrixDisplay, f1_score\n",
        "import matplotlib.pyplot as plt\n",
        "\n",
        "import tensorflow as tf\n",
        "from tensorflow.keras import layers, models, callbacks, utils\n",
        "\n",
        "SEED = 42\n",
        "np.random.seed(SEED); random.seed(SEED); tf.random.set_seed(SEED)"
      ]
    },
    {
      "cell_type": "code",
      "source": [
        "# 2) 데이터 경로\n",
        "DATA_PATH = \"/content/drive/MyDrive/Colab Notebooks/WISDM_ar_v1.1_raw.txt\""
      ],
      "metadata": {
        "id": "Rme2d0EkwWWH"
      },
      "execution_count": 2,
      "outputs": []
    },
    {
      "cell_type": "code",
      "source": [
        "# 3) WISDM 파서(정규식)\n",
        "def load_wisdm_regex(path):\n",
        "    pat = re.compile(\n",
        "        r'^\\s*(\\d+)\\s*,\\s*([A-Za-z_]+)\\s*,\\s*(\\d+)\\s*,\\s*'\n",
        "        r'([+-]?(?:\\d+(?:\\.\\d+)?|\\.\\d+))\\s*,\\s*'\n",
        "        r'([+-]?(?:\\d+(?:\\.\\d+)?|\\.\\d+))\\s*,\\s*'\n",
        "        r'([+-]?(?:\\d+(?:\\.\\d+)?|\\.\\d+))\\s*;?\\s*$'\n",
        "    )\n",
        "    rows, skipped = [], 0\n",
        "    with open(path, \"r\", encoding=\"utf-8\", errors=\"ignore\") as f:\n",
        "        for line in f:\n",
        "            m = pat.match(line)\n",
        "            if not m: skipped += 1; continue\n",
        "            rows.append((\n",
        "                int(m.group(1)), m.group(2), int(m.group(3)),\n",
        "                float(m.group(4)), float(m.group(5)), float(m.group(6))\n",
        "            ))\n",
        "    df = pd.DataFrame(rows, columns=[\"user\",\"activity\",\"timestamp\",\"x\",\"y\",\"z\"])\n",
        "    print(f\"[INFO] Parsed {len(df):,} rows. Skipped {skipped:,} malformed lines.\")\n",
        "    df = df.sort_values(\"timestamp\").reset_index(drop=True)\n",
        "    return df\n",
        "\n",
        "df = load_wisdm_regex(DATA_PATH)\n",
        "print(df.head(), df.shape)\n",
        "print(df[\"activity\"].value_counts())\n"
      ],
      "metadata": {
        "colab": {
          "base_uri": "https://localhost:8080/"
        },
        "id": "ch7-DWjfwdoD",
        "outputId": "fde78823-3ae0-45f1-bce2-fe63f9097ad1"
      },
      "execution_count": 3,
      "outputs": [
        {
          "output_type": "stream",
          "name": "stdout",
          "text": [
            "[INFO] Parsed 1,086,465 rows. Skipped 11,745 malformed lines.\n",
            "   user activity  timestamp    x    y    z\n",
            "0    32  Jogging          0  0.0  0.0  0.0\n",
            "1    32  Jogging          0  0.0  0.0  0.0\n",
            "2    32  Jogging          0  0.0  0.0  0.0\n",
            "3    32  Jogging          0  0.0  0.0  0.0\n",
            "4    32  Jogging          0  0.0  0.0  0.0 (1086465, 6)\n",
            "activity\n",
            "Walking       418393\n",
            "Jogging       336445\n",
            "Upstairs      122869\n",
            "Downstairs    100425\n",
            "Sitting        59939\n",
            "Standing       48394\n",
            "Name: count, dtype: int64\n"
          ]
        }
      ]
    },
    {
      "cell_type": "code",
      "source": [
        "# 4) 라벨 인코딩\n",
        "le = LabelEncoder()\n",
        "df[\"label\"] = le.fit_transform(df[\"activity\"])\n",
        "class_names = list(le.classes_)\n",
        "print(\"Label mapping:\", {cls: int(lab) for cls, lab in zip(class_names, le.transform(class_names))})"
      ],
      "metadata": {
        "colab": {
          "base_uri": "https://localhost:8080/"
        },
        "id": "3538tzS-wfew",
        "outputId": "6e6c7517-b233-465e-e4b8-88a6c195fd1c"
      },
      "execution_count": 4,
      "outputs": [
        {
          "output_type": "stream",
          "name": "stdout",
          "text": [
            "Label mapping: {'Downstairs': 0, 'Jogging': 1, 'Sitting': 2, 'Standing': 3, 'Upstairs': 4, 'Walking': 5}\n"
          ]
        }
      ]
    },
    {
      "cell_type": "code",
      "source": [
        "# 5) 슬라이딩 윈도우(유저/액티비티 경계 보존)\n",
        "feature_cols = [\"x\",\"y\",\"z\"]\n",
        "WINDOW_SIZE = 200\n",
        "STEP = 100\n",
        "\n",
        "def _segment_one_run(sub_df, window_size, step, feature_cols, label_col, num_classes=None):\n",
        "    data = sub_df[feature_cols].to_numpy(dtype=np.float32)   # (L, C)\n",
        "    labels = sub_df[label_col].to_numpy()\n",
        "    segs, labs = [], []\n",
        "    L = len(sub_df)\n",
        "    for start in range(0, L - window_size + 1, step):\n",
        "        end = start + window_size\n",
        "        segs.append(data[start:end])\n",
        "        if (num_classes is not None) and np.issubdtype(labels.dtype, np.integer):\n",
        "            labs.append(np.bincount(labels[start:end], minlength=num_classes).argmax())\n",
        "        else:\n",
        "            codes, uniques = pd.factorize(labels[start:end], sort=False)\n",
        "            labs.append(uniques[np.bincount(codes).argmax()])\n",
        "    return segs, labs\n",
        "\n",
        "def create_windows(df, window_size=200, step=100, feature_cols=(\"x\",\"y\",\"z\"), label_col=\"label\", num_classes=None):\n",
        "    feature_cols = list(feature_cols)\n",
        "    segments, labels = [], []\n",
        "    user_groups = df.groupby(\"user\", sort=False) if \"user\" in df.columns else [(None, df)]\n",
        "    for _, df_u in user_groups:\n",
        "        change = df_u[\"activity\"].ne(df_u[\"activity\"].shift()).to_numpy()\n",
        "        starts = np.flatnonzero(change) if change.any() else np.array([0], dtype=int)\n",
        "        ends = np.r_[starts[1:], len(df_u)]\n",
        "        for s, e in zip(starts, ends):\n",
        "            sub = df_u.iloc[s:e]\n",
        "            if len(sub) < window_size: continue\n",
        "            segs, labs = _segment_one_run(sub, window_size, step, feature_cols, label_col, num_classes)\n",
        "            segments.extend(segs); labels.extend(labs)\n",
        "    X = np.array(segments, dtype=np.float32) if segments else np.empty((0, window_size, len(feature_cols)), np.float32)\n",
        "    y = np.array(labels)\n",
        "    return X, y\n"
      ],
      "metadata": {
        "id": "wdnuYcA3whdt"
      },
      "execution_count": 5,
      "outputs": []
    },
    {
      "cell_type": "code",
      "source": [
        "# 6) 유저 기준 분할\n",
        "assert \"user\" in df.columns\n",
        "train_users = set([u for u in np.unique(df[\"user\"]) if u <= 27])\n",
        "test_users  = set([u for u in np.unique(df[\"user\"]) if u >= 28])\n",
        "\n",
        "df_train_full = df[df[\"user\"].isin(train_users)].copy()\n",
        "df_test       = df[df[\"user\"].isin(test_users)].copy()\n",
        "\n",
        "# 검증 유저 홀드아웃\n",
        "rng = np.random.default_rng(SEED)\n",
        "train_user_list = sorted(list(train_users))\n",
        "n_val_users = max(1, int(len(train_user_list)*0.2))\n",
        "val_users = set(rng.choice(train_user_list, size=n_val_users, replace=False))\n",
        "tr_users  = train_users - val_users\n",
        "\n",
        "df_train = df_train_full[df_train_full[\"user\"].isin(tr_users)].copy()\n",
        "df_val   = df_train_full[df_train_full[\"user\"].isin(val_users)].copy()\n",
        "\n",
        "print(\"train users:\", sorted(df_train[\"user\"].unique()))\n",
        "print(\"val   users:\", sorted(df_val[\"user\"].unique()))\n",
        "print(\"test  users:\", sorted(df_test[\"user\"].unique()))\n",
        "\n",
        "# train-only 스케일링 (xyz만)\n",
        "scaler = StandardScaler()\n",
        "df_train[feature_cols] = scaler.fit_transform(df_train[feature_cols])\n",
        "df_val[feature_cols]   = scaler.transform(df_val[feature_cols])\n",
        "df_test[feature_cols]  = scaler.transform(df_test[feature_cols])\n",
        "\n",
        "# 세트별 윈도우링\n",
        "n_cls = len(np.unique(df[\"label\"]))\n",
        "X_train, y_train = create_windows(df_train, WINDOW_SIZE, STEP, feature_cols, \"label\", n_cls)\n",
        "X_val,   y_val   = create_windows(df_val,   WINDOW_SIZE, STEP, feature_cols, \"label\", n_cls)\n",
        "X_test,  y_test  = create_windows(df_test,  WINDOW_SIZE, STEP, feature_cols, \"label\", n_cls)\n",
        "\n",
        "num_classes = len(np.unique(y_train))\n",
        "input_shape = (X_train.shape[1], X_train.shape[2])\n",
        "\n",
        "y_train_cat = utils.to_categorical(y_train, num_classes)\n",
        "y_val_cat   = utils.to_categorical(y_val,   num_classes)\n",
        "y_test_cat  = utils.to_categorical(y_test,  num_classes)\n",
        "\n",
        "print(\"X_train:\", X_train.shape, \"X_val:\", X_val.shape, \"X_test:\", X_test.shape)\n"
      ],
      "metadata": {
        "colab": {
          "base_uri": "https://localhost:8080/"
        },
        "id": "PNzFQreSwqe6",
        "outputId": "804ffd50-105e-4541-dd58-67bd0a736c3a"
      },
      "execution_count": 6,
      "outputs": [
        {
          "output_type": "stream",
          "name": "stdout",
          "text": [
            "train users: [np.int64(1), np.int64(2), np.int64(4), np.int64(5), np.int64(6), np.int64(7), np.int64(8), np.int64(9), np.int64(10), np.int64(11), np.int64(13), np.int64(14), np.int64(15), np.int64(16), np.int64(18), np.int64(20), np.int64(21), np.int64(22), np.int64(23), np.int64(24), np.int64(25), np.int64(26)]\n",
            "val   users: [np.int64(3), np.int64(12), np.int64(17), np.int64(19), np.int64(27)]\n",
            "test  users: [np.int64(28), np.int64(29), np.int64(30), np.int64(31), np.int64(32), np.int64(33), np.int64(34), np.int64(35), np.int64(36)]\n",
            "X_train: (5939, 200, 3) X_val: (1596, 200, 3) X_test: (2679, 200, 3)\n"
          ]
        }
      ]
    },
    {
      "cell_type": "code",
      "source": [
        "# 8) 3D 회전 + 노이즈/스케일 증강\n",
        "def _rand_rot_matrix():\n",
        "    a,b,c = np.random.uniform(0, 2*np.pi, size=3)\n",
        "    Rx = np.array([[1,0,0],[0,np.cos(a),-np.sin(a)],[0,np.sin(a),np.cos(a)]], dtype=np.float32)\n",
        "    Ry = np.array([[np.cos(b),0,np.sin(b)],[0,1,0],[-np.sin(b),0,np.cos(b)]], dtype=np.float32)\n",
        "    Rz = np.array([[np.cos(c),-np.sin(c),0],[np.sin(c),np.cos(c),0],[0,0,1]], dtype=np.float32)\n",
        "    return (Rz @ Ry @ Rx).astype(np.float32)\n",
        "\n",
        "def rotate_subset(X, y, ratio=0.6, xyz_idx=(0,1,2)):\n",
        "    n = len(X); m = int(n * ratio)\n",
        "    idx = np.random.choice(n, size=m, replace=False)\n",
        "    Xa = X[idx].copy(); ya = y[idx].copy()\n",
        "    for i in range(m):\n",
        "        R = _rand_rot_matrix()\n",
        "        # Apply rotation to each time step\n",
        "        for t in range(Xa.shape[1]):\n",
        "            Xa[i, t, list(xyz_idx)] = Xa[i, t, list(xyz_idx)] @ R.T\n",
        "    return Xa, ya\n",
        "\n",
        "def jitter_scale(X, noise_std=0.01, scale_std=0.10):\n",
        "    Xn = X + np.random.normal(0, noise_std, X.shape).astype(np.float32)\n",
        "    s  = np.random.normal(1.0, scale_std, size=(X.shape[0],1,1)).astype(np.float32)\n",
        "    return Xn * s\n",
        "\n",
        "Xr, yr = rotate_subset(X_train, y_train, ratio=0.6, xyz_idx=(0,1,2))\n",
        "Xj     = jitter_scale(Xr, noise_std=0.01, scale_std=0.10)\n",
        "\n",
        "X_train = np.concatenate([X_train, Xr, Xj], axis=0)\n",
        "y_train = np.concatenate([y_train, yr, yr], axis=0)\n",
        "\n",
        "# 셔플, 원-핫 갱신\n",
        "perm = np.random.permutation(len(X_train))\n",
        "X_train = X_train[perm]; y_train = y_train[perm]\n",
        "y_train_cat = utils.to_categorical(y_train, num_classes)\n",
        "\n",
        "print(\"After aug:\", X_train.shape, np.bincount(y_train, minlength=num_classes))"
      ],
      "metadata": {
        "colab": {
          "base_uri": "https://localhost:8080/"
        },
        "id": "GT3Hqld6wsxd",
        "outputId": "b3569776-5540-483c-ecb4-9d02dac943d7"
      },
      "execution_count": 8,
      "outputs": [
        {
          "output_type": "stream",
          "name": "stdout",
          "text": [
            "After aug: (13065, 200, 3) [ 969 4311  688  478 1341 5278]\n"
          ]
        }
      ]
    },
    {
      "cell_type": "markdown",
      "source": [
        "## TimeNorm\n",
        " - 한 윈도우(시계열 조각) 안에서, 채널별로 시간축 기준 평균을 0, 표준편차를 1로 맞춰 주는 정규화 레이어\n",
        "- 사용자·부착 위치·센서 편차로 인한 도메인 갭 완화\n",
        "- 학습 초반 val loss 튐 현상 감소, 일반화↑\n",
        "- 배치 크기 변화에 덜 민감(추론 시 러닝 통계가 필요 없음)"
      ],
      "metadata": {
        "id": "uBQ658j11sDs"
      }
    },
    {
      "cell_type": "code",
      "source": [
        "# 9) TimeNorm + 1D-CNN\n",
        "class TimeNorm(layers.Layer):\n",
        "    def __init__(self, eps=1e-5, **kw): super().__init__(**kw); self.eps = eps\n",
        "    def call(self, x):\n",
        "        mu = tf.reduce_mean(x, axis=1, keepdims=True)                 # (N,1,C)\n",
        "        sd = tf.math.reduce_std(x, axis=1, keepdims=True) + self.eps\n",
        "        return (x - mu) / sd\n",
        "\n",
        "def build_cnn(input_shape, num_classes,\n",
        "              label_smoothing=0.05, lr=1e-3, wd=1e-4):\n",
        "    inp = layers.Input(shape=input_shape)\n",
        "    x = TimeNorm()(inp)  # 입력단 정규화\n",
        "\n",
        "    x = layers.Conv1D(64, 7, padding=\"same\")(x)\n",
        "    x = layers.BatchNormalization()(x); x = layers.ReLU()(x)\n",
        "    x = layers.MaxPooling1D(2)(x)\n",
        "    x = layers.SpatialDropout1D(0.2)(x)\n",
        "\n",
        "    x = layers.Conv1D(128, 5, padding=\"same\")(x)\n",
        "    x = layers.BatchNormalization()(x); x = layers.ReLU()(x)\n",
        "    x = layers.MaxPooling1D(2)(x)\n",
        "    x = layers.SpatialDropout1D(0.3)(x)\n",
        "\n",
        "    x = layers.Conv1D(256, 3, padding=\"same\")(x)\n",
        "    x = layers.BatchNormalization()(x); x = layers.ReLU()(x)\n",
        "\n",
        "    gap = layers.GlobalAveragePooling1D()(x)\n",
        "    gmp = layers.GlobalMaxPooling1D()(x)\n",
        "    x = layers.Concatenate()([gap, gmp])\n",
        "    x = layers.Dropout(0.4)(x)\n",
        "    out = layers.Dense(num_classes, activation=\"softmax\")(x)\n",
        "\n",
        "    model = models.Model(inp, out)\n",
        "    try:\n",
        "        opt = tf.keras.optimizers.AdamW(learning_rate=lr, weight_decay=wd)\n",
        "    except:\n",
        "        opt = tf.keras.optimizers.Adam(learning_rate=lr)\n",
        "    model.compile(\n",
        "        optimizer=opt,\n",
        "        loss=tf.keras.losses.CategoricalCrossentropy(label_smoothing=label_smoothing),\n",
        "        metrics=[\"accuracy\"]\n",
        "    )\n",
        "    return model\n",
        "\n",
        "model = build_cnn(input_shape, num_classes)\n",
        "model.summary()"
      ],
      "metadata": {
        "colab": {
          "base_uri": "https://localhost:8080/",
          "height": 1000
        },
        "id": "DtgcOCf0wwhl",
        "outputId": "63cc6c82-c28b-44c9-b706-6d9b8b0ec196"
      },
      "execution_count": 9,
      "outputs": [
        {
          "output_type": "display_data",
          "data": {
            "text/plain": [
              "\u001b[1mModel: \"functional\"\u001b[0m\n"
            ],
            "text/html": [
              "<pre style=\"white-space:pre;overflow-x:auto;line-height:normal;font-family:Menlo,'DejaVu Sans Mono',consolas,'Courier New',monospace\"><span style=\"font-weight: bold\">Model: \"functional\"</span>\n",
              "</pre>\n"
            ]
          },
          "metadata": {}
        },
        {
          "output_type": "display_data",
          "data": {
            "text/plain": [
              "┏━━━━━━━━━━━━━━━━━━━━━┳━━━━━━━━━━━━━━━━━━━┳━━━━━━━━━━━━┳━━━━━━━━━━━━━━━━━━━┓\n",
              "┃\u001b[1m \u001b[0m\u001b[1mLayer (type)       \u001b[0m\u001b[1m \u001b[0m┃\u001b[1m \u001b[0m\u001b[1mOutput Shape     \u001b[0m\u001b[1m \u001b[0m┃\u001b[1m \u001b[0m\u001b[1m   Param #\u001b[0m\u001b[1m \u001b[0m┃\u001b[1m \u001b[0m\u001b[1mConnected to     \u001b[0m\u001b[1m \u001b[0m┃\n",
              "┡━━━━━━━━━━━━━━━━━━━━━╇━━━━━━━━━━━━━━━━━━━╇━━━━━━━━━━━━╇━━━━━━━━━━━━━━━━━━━┩\n",
              "│ input_layer         │ (\u001b[38;5;45mNone\u001b[0m, \u001b[38;5;34m200\u001b[0m, \u001b[38;5;34m3\u001b[0m)    │          \u001b[38;5;34m0\u001b[0m │ -                 │\n",
              "│ (\u001b[38;5;33mInputLayer\u001b[0m)        │                   │            │                   │\n",
              "├─────────────────────┼───────────────────┼────────────┼───────────────────┤\n",
              "│ time_norm           │ (\u001b[38;5;45mNone\u001b[0m, \u001b[38;5;34m200\u001b[0m, \u001b[38;5;34m3\u001b[0m)    │          \u001b[38;5;34m0\u001b[0m │ input_layer[\u001b[38;5;34m0\u001b[0m][\u001b[38;5;34m0\u001b[0m] │\n",
              "│ (\u001b[38;5;33mTimeNorm\u001b[0m)          │                   │            │                   │\n",
              "├─────────────────────┼───────────────────┼────────────┼───────────────────┤\n",
              "│ conv1d (\u001b[38;5;33mConv1D\u001b[0m)     │ (\u001b[38;5;45mNone\u001b[0m, \u001b[38;5;34m200\u001b[0m, \u001b[38;5;34m64\u001b[0m)   │      \u001b[38;5;34m1,408\u001b[0m │ time_norm[\u001b[38;5;34m0\u001b[0m][\u001b[38;5;34m0\u001b[0m]   │\n",
              "├─────────────────────┼───────────────────┼────────────┼───────────────────┤\n",
              "│ batch_normalization │ (\u001b[38;5;45mNone\u001b[0m, \u001b[38;5;34m200\u001b[0m, \u001b[38;5;34m64\u001b[0m)   │        \u001b[38;5;34m256\u001b[0m │ conv1d[\u001b[38;5;34m0\u001b[0m][\u001b[38;5;34m0\u001b[0m]      │\n",
              "│ (\u001b[38;5;33mBatchNormalizatio…\u001b[0m │                   │            │                   │\n",
              "├─────────────────────┼───────────────────┼────────────┼───────────────────┤\n",
              "│ re_lu (\u001b[38;5;33mReLU\u001b[0m)        │ (\u001b[38;5;45mNone\u001b[0m, \u001b[38;5;34m200\u001b[0m, \u001b[38;5;34m64\u001b[0m)   │          \u001b[38;5;34m0\u001b[0m │ batch_normalizat… │\n",
              "├─────────────────────┼───────────────────┼────────────┼───────────────────┤\n",
              "│ max_pooling1d       │ (\u001b[38;5;45mNone\u001b[0m, \u001b[38;5;34m100\u001b[0m, \u001b[38;5;34m64\u001b[0m)   │          \u001b[38;5;34m0\u001b[0m │ re_lu[\u001b[38;5;34m0\u001b[0m][\u001b[38;5;34m0\u001b[0m]       │\n",
              "│ (\u001b[38;5;33mMaxPooling1D\u001b[0m)      │                   │            │                   │\n",
              "├─────────────────────┼───────────────────┼────────────┼───────────────────┤\n",
              "│ spatial_dropout1d   │ (\u001b[38;5;45mNone\u001b[0m, \u001b[38;5;34m100\u001b[0m, \u001b[38;5;34m64\u001b[0m)   │          \u001b[38;5;34m0\u001b[0m │ max_pooling1d[\u001b[38;5;34m0\u001b[0m]… │\n",
              "│ (\u001b[38;5;33mSpatialDropout1D\u001b[0m)  │                   │            │                   │\n",
              "├─────────────────────┼───────────────────┼────────────┼───────────────────┤\n",
              "│ conv1d_1 (\u001b[38;5;33mConv1D\u001b[0m)   │ (\u001b[38;5;45mNone\u001b[0m, \u001b[38;5;34m100\u001b[0m, \u001b[38;5;34m128\u001b[0m)  │     \u001b[38;5;34m41,088\u001b[0m │ spatial_dropout1… │\n",
              "├─────────────────────┼───────────────────┼────────────┼───────────────────┤\n",
              "│ batch_normalizatio… │ (\u001b[38;5;45mNone\u001b[0m, \u001b[38;5;34m100\u001b[0m, \u001b[38;5;34m128\u001b[0m)  │        \u001b[38;5;34m512\u001b[0m │ conv1d_1[\u001b[38;5;34m0\u001b[0m][\u001b[38;5;34m0\u001b[0m]    │\n",
              "│ (\u001b[38;5;33mBatchNormalizatio…\u001b[0m │                   │            │                   │\n",
              "├─────────────────────┼───────────────────┼────────────┼───────────────────┤\n",
              "│ re_lu_1 (\u001b[38;5;33mReLU\u001b[0m)      │ (\u001b[38;5;45mNone\u001b[0m, \u001b[38;5;34m100\u001b[0m, \u001b[38;5;34m128\u001b[0m)  │          \u001b[38;5;34m0\u001b[0m │ batch_normalizat… │\n",
              "├─────────────────────┼───────────────────┼────────────┼───────────────────┤\n",
              "│ max_pooling1d_1     │ (\u001b[38;5;45mNone\u001b[0m, \u001b[38;5;34m50\u001b[0m, \u001b[38;5;34m128\u001b[0m)   │          \u001b[38;5;34m0\u001b[0m │ re_lu_1[\u001b[38;5;34m0\u001b[0m][\u001b[38;5;34m0\u001b[0m]     │\n",
              "│ (\u001b[38;5;33mMaxPooling1D\u001b[0m)      │                   │            │                   │\n",
              "├─────────────────────┼───────────────────┼────────────┼───────────────────┤\n",
              "│ spatial_dropout1d_1 │ (\u001b[38;5;45mNone\u001b[0m, \u001b[38;5;34m50\u001b[0m, \u001b[38;5;34m128\u001b[0m)   │          \u001b[38;5;34m0\u001b[0m │ max_pooling1d_1[\u001b[38;5;34m…\u001b[0m │\n",
              "│ (\u001b[38;5;33mSpatialDropout1D\u001b[0m)  │                   │            │                   │\n",
              "├─────────────────────┼───────────────────┼────────────┼───────────────────┤\n",
              "│ conv1d_2 (\u001b[38;5;33mConv1D\u001b[0m)   │ (\u001b[38;5;45mNone\u001b[0m, \u001b[38;5;34m50\u001b[0m, \u001b[38;5;34m256\u001b[0m)   │     \u001b[38;5;34m98,560\u001b[0m │ spatial_dropout1… │\n",
              "├─────────────────────┼───────────────────┼────────────┼───────────────────┤\n",
              "│ batch_normalizatio… │ (\u001b[38;5;45mNone\u001b[0m, \u001b[38;5;34m50\u001b[0m, \u001b[38;5;34m256\u001b[0m)   │      \u001b[38;5;34m1,024\u001b[0m │ conv1d_2[\u001b[38;5;34m0\u001b[0m][\u001b[38;5;34m0\u001b[0m]    │\n",
              "│ (\u001b[38;5;33mBatchNormalizatio…\u001b[0m │                   │            │                   │\n",
              "├─────────────────────┼───────────────────┼────────────┼───────────────────┤\n",
              "│ re_lu_2 (\u001b[38;5;33mReLU\u001b[0m)      │ (\u001b[38;5;45mNone\u001b[0m, \u001b[38;5;34m50\u001b[0m, \u001b[38;5;34m256\u001b[0m)   │          \u001b[38;5;34m0\u001b[0m │ batch_normalizat… │\n",
              "├─────────────────────┼───────────────────┼────────────┼───────────────────┤\n",
              "│ global_average_poo… │ (\u001b[38;5;45mNone\u001b[0m, \u001b[38;5;34m256\u001b[0m)       │          \u001b[38;5;34m0\u001b[0m │ re_lu_2[\u001b[38;5;34m0\u001b[0m][\u001b[38;5;34m0\u001b[0m]     │\n",
              "│ (\u001b[38;5;33mGlobalAveragePool…\u001b[0m │                   │            │                   │\n",
              "├─────────────────────┼───────────────────┼────────────┼───────────────────┤\n",
              "│ global_max_pooling… │ (\u001b[38;5;45mNone\u001b[0m, \u001b[38;5;34m256\u001b[0m)       │          \u001b[38;5;34m0\u001b[0m │ re_lu_2[\u001b[38;5;34m0\u001b[0m][\u001b[38;5;34m0\u001b[0m]     │\n",
              "│ (\u001b[38;5;33mGlobalMaxPooling1…\u001b[0m │                   │            │                   │\n",
              "├─────────────────────┼───────────────────┼────────────┼───────────────────┤\n",
              "│ concatenate         │ (\u001b[38;5;45mNone\u001b[0m, \u001b[38;5;34m512\u001b[0m)       │          \u001b[38;5;34m0\u001b[0m │ global_average_p… │\n",
              "│ (\u001b[38;5;33mConcatenate\u001b[0m)       │                   │            │ global_max_pooli… │\n",
              "├─────────────────────┼───────────────────┼────────────┼───────────────────┤\n",
              "│ dropout (\u001b[38;5;33mDropout\u001b[0m)   │ (\u001b[38;5;45mNone\u001b[0m, \u001b[38;5;34m512\u001b[0m)       │          \u001b[38;5;34m0\u001b[0m │ concatenate[\u001b[38;5;34m0\u001b[0m][\u001b[38;5;34m0\u001b[0m] │\n",
              "├─────────────────────┼───────────────────┼────────────┼───────────────────┤\n",
              "│ dense (\u001b[38;5;33mDense\u001b[0m)       │ (\u001b[38;5;45mNone\u001b[0m, \u001b[38;5;34m6\u001b[0m)         │      \u001b[38;5;34m3,078\u001b[0m │ dropout[\u001b[38;5;34m0\u001b[0m][\u001b[38;5;34m0\u001b[0m]     │\n",
              "└─────────────────────┴───────────────────┴────────────┴───────────────────┘\n"
            ],
            "text/html": [
              "<pre style=\"white-space:pre;overflow-x:auto;line-height:normal;font-family:Menlo,'DejaVu Sans Mono',consolas,'Courier New',monospace\">┏━━━━━━━━━━━━━━━━━━━━━┳━━━━━━━━━━━━━━━━━━━┳━━━━━━━━━━━━┳━━━━━━━━━━━━━━━━━━━┓\n",
              "┃<span style=\"font-weight: bold\"> Layer (type)        </span>┃<span style=\"font-weight: bold\"> Output Shape      </span>┃<span style=\"font-weight: bold\">    Param # </span>┃<span style=\"font-weight: bold\"> Connected to      </span>┃\n",
              "┡━━━━━━━━━━━━━━━━━━━━━╇━━━━━━━━━━━━━━━━━━━╇━━━━━━━━━━━━╇━━━━━━━━━━━━━━━━━━━┩\n",
              "│ input_layer         │ (<span style=\"color: #00d7ff; text-decoration-color: #00d7ff\">None</span>, <span style=\"color: #00af00; text-decoration-color: #00af00\">200</span>, <span style=\"color: #00af00; text-decoration-color: #00af00\">3</span>)    │          <span style=\"color: #00af00; text-decoration-color: #00af00\">0</span> │ -                 │\n",
              "│ (<span style=\"color: #0087ff; text-decoration-color: #0087ff\">InputLayer</span>)        │                   │            │                   │\n",
              "├─────────────────────┼───────────────────┼────────────┼───────────────────┤\n",
              "│ time_norm           │ (<span style=\"color: #00d7ff; text-decoration-color: #00d7ff\">None</span>, <span style=\"color: #00af00; text-decoration-color: #00af00\">200</span>, <span style=\"color: #00af00; text-decoration-color: #00af00\">3</span>)    │          <span style=\"color: #00af00; text-decoration-color: #00af00\">0</span> │ input_layer[<span style=\"color: #00af00; text-decoration-color: #00af00\">0</span>][<span style=\"color: #00af00; text-decoration-color: #00af00\">0</span>] │\n",
              "│ (<span style=\"color: #0087ff; text-decoration-color: #0087ff\">TimeNorm</span>)          │                   │            │                   │\n",
              "├─────────────────────┼───────────────────┼────────────┼───────────────────┤\n",
              "│ conv1d (<span style=\"color: #0087ff; text-decoration-color: #0087ff\">Conv1D</span>)     │ (<span style=\"color: #00d7ff; text-decoration-color: #00d7ff\">None</span>, <span style=\"color: #00af00; text-decoration-color: #00af00\">200</span>, <span style=\"color: #00af00; text-decoration-color: #00af00\">64</span>)   │      <span style=\"color: #00af00; text-decoration-color: #00af00\">1,408</span> │ time_norm[<span style=\"color: #00af00; text-decoration-color: #00af00\">0</span>][<span style=\"color: #00af00; text-decoration-color: #00af00\">0</span>]   │\n",
              "├─────────────────────┼───────────────────┼────────────┼───────────────────┤\n",
              "│ batch_normalization │ (<span style=\"color: #00d7ff; text-decoration-color: #00d7ff\">None</span>, <span style=\"color: #00af00; text-decoration-color: #00af00\">200</span>, <span style=\"color: #00af00; text-decoration-color: #00af00\">64</span>)   │        <span style=\"color: #00af00; text-decoration-color: #00af00\">256</span> │ conv1d[<span style=\"color: #00af00; text-decoration-color: #00af00\">0</span>][<span style=\"color: #00af00; text-decoration-color: #00af00\">0</span>]      │\n",
              "│ (<span style=\"color: #0087ff; text-decoration-color: #0087ff\">BatchNormalizatio…</span> │                   │            │                   │\n",
              "├─────────────────────┼───────────────────┼────────────┼───────────────────┤\n",
              "│ re_lu (<span style=\"color: #0087ff; text-decoration-color: #0087ff\">ReLU</span>)        │ (<span style=\"color: #00d7ff; text-decoration-color: #00d7ff\">None</span>, <span style=\"color: #00af00; text-decoration-color: #00af00\">200</span>, <span style=\"color: #00af00; text-decoration-color: #00af00\">64</span>)   │          <span style=\"color: #00af00; text-decoration-color: #00af00\">0</span> │ batch_normalizat… │\n",
              "├─────────────────────┼───────────────────┼────────────┼───────────────────┤\n",
              "│ max_pooling1d       │ (<span style=\"color: #00d7ff; text-decoration-color: #00d7ff\">None</span>, <span style=\"color: #00af00; text-decoration-color: #00af00\">100</span>, <span style=\"color: #00af00; text-decoration-color: #00af00\">64</span>)   │          <span style=\"color: #00af00; text-decoration-color: #00af00\">0</span> │ re_lu[<span style=\"color: #00af00; text-decoration-color: #00af00\">0</span>][<span style=\"color: #00af00; text-decoration-color: #00af00\">0</span>]       │\n",
              "│ (<span style=\"color: #0087ff; text-decoration-color: #0087ff\">MaxPooling1D</span>)      │                   │            │                   │\n",
              "├─────────────────────┼───────────────────┼────────────┼───────────────────┤\n",
              "│ spatial_dropout1d   │ (<span style=\"color: #00d7ff; text-decoration-color: #00d7ff\">None</span>, <span style=\"color: #00af00; text-decoration-color: #00af00\">100</span>, <span style=\"color: #00af00; text-decoration-color: #00af00\">64</span>)   │          <span style=\"color: #00af00; text-decoration-color: #00af00\">0</span> │ max_pooling1d[<span style=\"color: #00af00; text-decoration-color: #00af00\">0</span>]… │\n",
              "│ (<span style=\"color: #0087ff; text-decoration-color: #0087ff\">SpatialDropout1D</span>)  │                   │            │                   │\n",
              "├─────────────────────┼───────────────────┼────────────┼───────────────────┤\n",
              "│ conv1d_1 (<span style=\"color: #0087ff; text-decoration-color: #0087ff\">Conv1D</span>)   │ (<span style=\"color: #00d7ff; text-decoration-color: #00d7ff\">None</span>, <span style=\"color: #00af00; text-decoration-color: #00af00\">100</span>, <span style=\"color: #00af00; text-decoration-color: #00af00\">128</span>)  │     <span style=\"color: #00af00; text-decoration-color: #00af00\">41,088</span> │ spatial_dropout1… │\n",
              "├─────────────────────┼───────────────────┼────────────┼───────────────────┤\n",
              "│ batch_normalizatio… │ (<span style=\"color: #00d7ff; text-decoration-color: #00d7ff\">None</span>, <span style=\"color: #00af00; text-decoration-color: #00af00\">100</span>, <span style=\"color: #00af00; text-decoration-color: #00af00\">128</span>)  │        <span style=\"color: #00af00; text-decoration-color: #00af00\">512</span> │ conv1d_1[<span style=\"color: #00af00; text-decoration-color: #00af00\">0</span>][<span style=\"color: #00af00; text-decoration-color: #00af00\">0</span>]    │\n",
              "│ (<span style=\"color: #0087ff; text-decoration-color: #0087ff\">BatchNormalizatio…</span> │                   │            │                   │\n",
              "├─────────────────────┼───────────────────┼────────────┼───────────────────┤\n",
              "│ re_lu_1 (<span style=\"color: #0087ff; text-decoration-color: #0087ff\">ReLU</span>)      │ (<span style=\"color: #00d7ff; text-decoration-color: #00d7ff\">None</span>, <span style=\"color: #00af00; text-decoration-color: #00af00\">100</span>, <span style=\"color: #00af00; text-decoration-color: #00af00\">128</span>)  │          <span style=\"color: #00af00; text-decoration-color: #00af00\">0</span> │ batch_normalizat… │\n",
              "├─────────────────────┼───────────────────┼────────────┼───────────────────┤\n",
              "│ max_pooling1d_1     │ (<span style=\"color: #00d7ff; text-decoration-color: #00d7ff\">None</span>, <span style=\"color: #00af00; text-decoration-color: #00af00\">50</span>, <span style=\"color: #00af00; text-decoration-color: #00af00\">128</span>)   │          <span style=\"color: #00af00; text-decoration-color: #00af00\">0</span> │ re_lu_1[<span style=\"color: #00af00; text-decoration-color: #00af00\">0</span>][<span style=\"color: #00af00; text-decoration-color: #00af00\">0</span>]     │\n",
              "│ (<span style=\"color: #0087ff; text-decoration-color: #0087ff\">MaxPooling1D</span>)      │                   │            │                   │\n",
              "├─────────────────────┼───────────────────┼────────────┼───────────────────┤\n",
              "│ spatial_dropout1d_1 │ (<span style=\"color: #00d7ff; text-decoration-color: #00d7ff\">None</span>, <span style=\"color: #00af00; text-decoration-color: #00af00\">50</span>, <span style=\"color: #00af00; text-decoration-color: #00af00\">128</span>)   │          <span style=\"color: #00af00; text-decoration-color: #00af00\">0</span> │ max_pooling1d_1[<span style=\"color: #00af00; text-decoration-color: #00af00\">…</span> │\n",
              "│ (<span style=\"color: #0087ff; text-decoration-color: #0087ff\">SpatialDropout1D</span>)  │                   │            │                   │\n",
              "├─────────────────────┼───────────────────┼────────────┼───────────────────┤\n",
              "│ conv1d_2 (<span style=\"color: #0087ff; text-decoration-color: #0087ff\">Conv1D</span>)   │ (<span style=\"color: #00d7ff; text-decoration-color: #00d7ff\">None</span>, <span style=\"color: #00af00; text-decoration-color: #00af00\">50</span>, <span style=\"color: #00af00; text-decoration-color: #00af00\">256</span>)   │     <span style=\"color: #00af00; text-decoration-color: #00af00\">98,560</span> │ spatial_dropout1… │\n",
              "├─────────────────────┼───────────────────┼────────────┼───────────────────┤\n",
              "│ batch_normalizatio… │ (<span style=\"color: #00d7ff; text-decoration-color: #00d7ff\">None</span>, <span style=\"color: #00af00; text-decoration-color: #00af00\">50</span>, <span style=\"color: #00af00; text-decoration-color: #00af00\">256</span>)   │      <span style=\"color: #00af00; text-decoration-color: #00af00\">1,024</span> │ conv1d_2[<span style=\"color: #00af00; text-decoration-color: #00af00\">0</span>][<span style=\"color: #00af00; text-decoration-color: #00af00\">0</span>]    │\n",
              "│ (<span style=\"color: #0087ff; text-decoration-color: #0087ff\">BatchNormalizatio…</span> │                   │            │                   │\n",
              "├─────────────────────┼───────────────────┼────────────┼───────────────────┤\n",
              "│ re_lu_2 (<span style=\"color: #0087ff; text-decoration-color: #0087ff\">ReLU</span>)      │ (<span style=\"color: #00d7ff; text-decoration-color: #00d7ff\">None</span>, <span style=\"color: #00af00; text-decoration-color: #00af00\">50</span>, <span style=\"color: #00af00; text-decoration-color: #00af00\">256</span>)   │          <span style=\"color: #00af00; text-decoration-color: #00af00\">0</span> │ batch_normalizat… │\n",
              "├─────────────────────┼───────────────────┼────────────┼───────────────────┤\n",
              "│ global_average_poo… │ (<span style=\"color: #00d7ff; text-decoration-color: #00d7ff\">None</span>, <span style=\"color: #00af00; text-decoration-color: #00af00\">256</span>)       │          <span style=\"color: #00af00; text-decoration-color: #00af00\">0</span> │ re_lu_2[<span style=\"color: #00af00; text-decoration-color: #00af00\">0</span>][<span style=\"color: #00af00; text-decoration-color: #00af00\">0</span>]     │\n",
              "│ (<span style=\"color: #0087ff; text-decoration-color: #0087ff\">GlobalAveragePool…</span> │                   │            │                   │\n",
              "├─────────────────────┼───────────────────┼────────────┼───────────────────┤\n",
              "│ global_max_pooling… │ (<span style=\"color: #00d7ff; text-decoration-color: #00d7ff\">None</span>, <span style=\"color: #00af00; text-decoration-color: #00af00\">256</span>)       │          <span style=\"color: #00af00; text-decoration-color: #00af00\">0</span> │ re_lu_2[<span style=\"color: #00af00; text-decoration-color: #00af00\">0</span>][<span style=\"color: #00af00; text-decoration-color: #00af00\">0</span>]     │\n",
              "│ (<span style=\"color: #0087ff; text-decoration-color: #0087ff\">GlobalMaxPooling1…</span> │                   │            │                   │\n",
              "├─────────────────────┼───────────────────┼────────────┼───────────────────┤\n",
              "│ concatenate         │ (<span style=\"color: #00d7ff; text-decoration-color: #00d7ff\">None</span>, <span style=\"color: #00af00; text-decoration-color: #00af00\">512</span>)       │          <span style=\"color: #00af00; text-decoration-color: #00af00\">0</span> │ global_average_p… │\n",
              "│ (<span style=\"color: #0087ff; text-decoration-color: #0087ff\">Concatenate</span>)       │                   │            │ global_max_pooli… │\n",
              "├─────────────────────┼───────────────────┼────────────┼───────────────────┤\n",
              "│ dropout (<span style=\"color: #0087ff; text-decoration-color: #0087ff\">Dropout</span>)   │ (<span style=\"color: #00d7ff; text-decoration-color: #00d7ff\">None</span>, <span style=\"color: #00af00; text-decoration-color: #00af00\">512</span>)       │          <span style=\"color: #00af00; text-decoration-color: #00af00\">0</span> │ concatenate[<span style=\"color: #00af00; text-decoration-color: #00af00\">0</span>][<span style=\"color: #00af00; text-decoration-color: #00af00\">0</span>] │\n",
              "├─────────────────────┼───────────────────┼────────────┼───────────────────┤\n",
              "│ dense (<span style=\"color: #0087ff; text-decoration-color: #0087ff\">Dense</span>)       │ (<span style=\"color: #00d7ff; text-decoration-color: #00d7ff\">None</span>, <span style=\"color: #00af00; text-decoration-color: #00af00\">6</span>)         │      <span style=\"color: #00af00; text-decoration-color: #00af00\">3,078</span> │ dropout[<span style=\"color: #00af00; text-decoration-color: #00af00\">0</span>][<span style=\"color: #00af00; text-decoration-color: #00af00\">0</span>]     │\n",
              "└─────────────────────┴───────────────────┴────────────┴───────────────────┘\n",
              "</pre>\n"
            ]
          },
          "metadata": {}
        },
        {
          "output_type": "display_data",
          "data": {
            "text/plain": [
              "\u001b[1m Total params: \u001b[0m\u001b[38;5;34m145,926\u001b[0m (570.02 KB)\n"
            ],
            "text/html": [
              "<pre style=\"white-space:pre;overflow-x:auto;line-height:normal;font-family:Menlo,'DejaVu Sans Mono',consolas,'Courier New',monospace\"><span style=\"font-weight: bold\"> Total params: </span><span style=\"color: #00af00; text-decoration-color: #00af00\">145,926</span> (570.02 KB)\n",
              "</pre>\n"
            ]
          },
          "metadata": {}
        },
        {
          "output_type": "display_data",
          "data": {
            "text/plain": [
              "\u001b[1m Trainable params: \u001b[0m\u001b[38;5;34m145,030\u001b[0m (566.52 KB)\n"
            ],
            "text/html": [
              "<pre style=\"white-space:pre;overflow-x:auto;line-height:normal;font-family:Menlo,'DejaVu Sans Mono',consolas,'Courier New',monospace\"><span style=\"font-weight: bold\"> Trainable params: </span><span style=\"color: #00af00; text-decoration-color: #00af00\">145,030</span> (566.52 KB)\n",
              "</pre>\n"
            ]
          },
          "metadata": {}
        },
        {
          "output_type": "display_data",
          "data": {
            "text/plain": [
              "\u001b[1m Non-trainable params: \u001b[0m\u001b[38;5;34m896\u001b[0m (3.50 KB)\n"
            ],
            "text/html": [
              "<pre style=\"white-space:pre;overflow-x:auto;line-height:normal;font-family:Menlo,'DejaVu Sans Mono',consolas,'Courier New',monospace\"><span style=\"font-weight: bold\"> Non-trainable params: </span><span style=\"color: #00af00; text-decoration-color: #00af00\">896</span> (3.50 KB)\n",
              "</pre>\n"
            ]
          },
          "metadata": {}
        }
      ]
    },
    {
      "cell_type": "code",
      "source": [
        "# 10) 학습\n",
        "# 클래스 가중치(학습 세트 기준)\n",
        "cc = np.bincount(y_train, minlength=num_classes); total = cc.sum()\n",
        "class_weight = {i: float(total/(num_classes*max(1,cc[i]))) for i in range(num_classes)}\n",
        "print(\"class_weight:\", class_weight)\n",
        "\n",
        "EPOCHS = 25\n",
        "es  = callbacks.EarlyStopping(patience=6, restore_best_weights=True, monitor=\"val_loss\")\n",
        "rlr = callbacks.ReduceLROnPlateau(factor=0.5, patience=3, min_lr=1e-5, monitor=\"val_loss\", verbose=1)\n",
        "\n",
        "history = model.fit(\n",
        "    X_train, y_train_cat,\n",
        "    validation_data=(X_val, y_val_cat),\n",
        "    epochs=EPOCHS,\n",
        "    batch_size=256,\n",
        "    class_weight=class_weight,\n",
        "    callbacks=[es, rlr],\n",
        "    verbose=1\n",
        ")\n"
      ],
      "metadata": {
        "colab": {
          "base_uri": "https://localhost:8080/"
        },
        "id": "D8varALCw4_7",
        "outputId": "168212a6-ab23-4deb-d790-811d78029484"
      },
      "execution_count": 10,
      "outputs": [
        {
          "output_type": "stream",
          "name": "stdout",
          "text": [
            "class_weight: {0: 2.2471620227038183, 1: 0.5051032243099048, 2: 3.164970930232558, 3: 4.555439330543933, 4: 1.6237882177479492, 5: 0.4125615763546798}\n",
            "Epoch 1/25\n",
            "\u001b[1m52/52\u001b[0m \u001b[32m━━━━━━━━━━━━━━━━━━━━\u001b[0m\u001b[37m\u001b[0m \u001b[1m36s\u001b[0m 616ms/step - accuracy: 0.2321 - loss: 2.6329 - val_accuracy: 0.5520 - val_loss: 1.4509 - learning_rate: 0.0010\n",
            "Epoch 2/25\n",
            "\u001b[1m52/52\u001b[0m \u001b[32m━━━━━━━━━━━━━━━━━━━━\u001b[0m\u001b[37m\u001b[0m \u001b[1m28s\u001b[0m 545ms/step - accuracy: 0.4269 - loss: 1.7704 - val_accuracy: 0.5482 - val_loss: 1.2736 - learning_rate: 0.0010\n",
            "Epoch 3/25\n",
            "\u001b[1m52/52\u001b[0m \u001b[32m━━━━━━━━━━━━━━━━━━━━\u001b[0m\u001b[37m\u001b[0m \u001b[1m28s\u001b[0m 544ms/step - accuracy: 0.5286 - loss: 1.4837 - val_accuracy: 0.6084 - val_loss: 1.1842 - learning_rate: 0.0010\n",
            "Epoch 4/25\n",
            "\u001b[1m52/52\u001b[0m \u001b[32m━━━━━━━━━━━━━━━━━━━━\u001b[0m\u001b[37m\u001b[0m \u001b[1m42s\u001b[0m 565ms/step - accuracy: 0.5918 - loss: 1.3335 - val_accuracy: 0.6310 - val_loss: 1.1749 - learning_rate: 0.0010\n",
            "Epoch 5/25\n",
            "\u001b[1m52/52\u001b[0m \u001b[32m━━━━━━━━━━━━━━━━━━━━\u001b[0m\u001b[37m\u001b[0m \u001b[1m42s\u001b[0m 594ms/step - accuracy: 0.6339 - loss: 1.1924 - val_accuracy: 0.6610 - val_loss: 1.0701 - learning_rate: 0.0010\n",
            "Epoch 6/25\n",
            "\u001b[1m52/52\u001b[0m \u001b[32m━━━━━━━━━━━━━━━━━━━━\u001b[0m\u001b[37m\u001b[0m \u001b[1m29s\u001b[0m 551ms/step - accuracy: 0.6834 - loss: 1.1213 - val_accuracy: 0.6767 - val_loss: 1.1146 - learning_rate: 0.0010\n",
            "Epoch 7/25\n",
            "\u001b[1m52/52\u001b[0m \u001b[32m━━━━━━━━━━━━━━━━━━━━\u001b[0m\u001b[37m\u001b[0m \u001b[1m28s\u001b[0m 538ms/step - accuracy: 0.7117 - loss: 1.0764 - val_accuracy: 0.6798 - val_loss: 1.1776 - learning_rate: 0.0010\n",
            "Epoch 8/25\n",
            "\u001b[1m51/52\u001b[0m \u001b[32m━━━━━━━━━━━━━━━━━━━\u001b[0m\u001b[37m━\u001b[0m \u001b[1m0s\u001b[0m 537ms/step - accuracy: 0.7268 - loss: 1.0298\n",
            "Epoch 8: ReduceLROnPlateau reducing learning rate to 0.0005000000237487257.\n",
            "\u001b[1m52/52\u001b[0m \u001b[32m━━━━━━━━━━━━━━━━━━━━\u001b[0m\u001b[37m\u001b[0m \u001b[1m41s\u001b[0m 540ms/step - accuracy: 0.7269 - loss: 1.0294 - val_accuracy: 0.6786 - val_loss: 1.2611 - learning_rate: 0.0010\n",
            "Epoch 9/25\n",
            "\u001b[1m52/52\u001b[0m \u001b[32m━━━━━━━━━━━━━━━━━━━━\u001b[0m\u001b[37m\u001b[0m \u001b[1m42s\u001b[0m 553ms/step - accuracy: 0.7538 - loss: 0.9837 - val_accuracy: 0.6717 - val_loss: 1.2526 - learning_rate: 5.0000e-04\n",
            "Epoch 10/25\n",
            "\u001b[1m52/52\u001b[0m \u001b[32m━━━━━━━━━━━━━━━━━━━━\u001b[0m\u001b[37m\u001b[0m \u001b[1m41s\u001b[0m 557ms/step - accuracy: 0.7555 - loss: 0.9515 - val_accuracy: 0.6654 - val_loss: 1.2724 - learning_rate: 5.0000e-04\n",
            "Epoch 11/25\n",
            "\u001b[1m51/52\u001b[0m \u001b[32m━━━━━━━━━━━━━━━━━━━\u001b[0m\u001b[37m━\u001b[0m \u001b[1m0s\u001b[0m 536ms/step - accuracy: 0.7567 - loss: 0.9493\n",
            "Epoch 11: ReduceLROnPlateau reducing learning rate to 0.0002500000118743628.\n",
            "\u001b[1m52/52\u001b[0m \u001b[32m━━━━━━━━━━━━━━━━━━━━\u001b[0m\u001b[37m\u001b[0m \u001b[1m41s\u001b[0m 552ms/step - accuracy: 0.7570 - loss: 0.9484 - val_accuracy: 0.6905 - val_loss: 1.2300 - learning_rate: 5.0000e-04\n"
          ]
        }
      ]
    },
    {
      "cell_type": "code",
      "source": [
        "# 11) 평가\n",
        "test_loss, test_acc = model.evaluate(X_test, y_test_cat, verbose=0)\n",
        "print(f\"[TEST] loss={test_loss:.4f} acc={test_acc:.4f}\")\n",
        "\n",
        "y_pred = model.predict(X_test, verbose=0).argmax(axis=1)\n",
        "print(\"\\n=== Classification Report ===\")\n",
        "print(classification_report(y_test, y_pred, target_names=class_names))\n",
        "print(\"Macro F1:\", round(f1_score(y_test, y_pred, average=\"macro\"), 4),\n",
        "      \"/ Weighted F1:\", round(f1_score(y_test, y_pred, average=\"weighted\"), 4))"
      ],
      "metadata": {
        "colab": {
          "base_uri": "https://localhost:8080/"
        },
        "id": "WtvETd8Dw5CR",
        "outputId": "531aa789-7e7e-4053-c296-2fc82360b2bf"
      },
      "execution_count": 11,
      "outputs": [
        {
          "output_type": "stream",
          "name": "stdout",
          "text": [
            "[TEST] loss=0.6299 acc=0.8537\n",
            "\n",
            "=== Classification Report ===\n",
            "              precision    recall  f1-score   support\n",
            "\n",
            "  Downstairs       0.65      0.67      0.66       247\n",
            "     Jogging       1.00      0.94      0.96       760\n",
            "     Sitting       0.64      0.59      0.61       168\n",
            "    Standing       0.56      0.67      0.61       150\n",
            "    Upstairs       0.92      0.64      0.76       279\n",
            "     Walking       0.87      0.96      0.91      1075\n",
            "\n",
            "    accuracy                           0.85      2679\n",
            "   macro avg       0.77      0.74      0.75      2679\n",
            "weighted avg       0.86      0.85      0.85      2679\n",
            "\n",
            "Macro F1: 0.7526 / Weighted F1: 0.8528\n"
          ]
        }
      ]
    },
    {
      "cell_type": "code",
      "source": [
        "# 12) 혼동행렬\n",
        "cm = confusion_matrix(y_test, y_pred)\n",
        "disp = ConfusionMatrixDisplay(confusion_matrix=cm, display_labels=class_names)\n",
        "fig, ax = plt.subplots(figsize=(6,6))\n",
        "disp.plot(ax=ax, xticks_rotation=45, colorbar=False)\n",
        "plt.tight_layout(); plt.show()"
      ],
      "metadata": {
        "colab": {
          "base_uri": "https://localhost:8080/",
          "height": 595
        },
        "id": "9wBxDTQHw5En",
        "outputId": "e3d50db8-474c-463e-b0de-5596cf45075e"
      },
      "execution_count": 12,
      "outputs": [
        {
          "output_type": "display_data",
          "data": {
            "text/plain": [
              "<Figure size 600x600 with 1 Axes>"
            ],
            "image/png": "[encoded data removed]"
          },
          "metadata": {}
        }
      ]
    },
    {
      "cell_type": "code",
      "source": [
        "\n",
        "# 13) 학습곡선\n",
        "plt.plot(history.history[\"loss\"], label=\"train\")\n",
        "plt.plot(history.history[\"val_loss\"], label=\"val\"); plt.legend(); plt.show()"
      ],
      "metadata": {
        "colab": {
          "base_uri": "https://localhost:8080/",
          "height": 430
        },
        "id": "kEEtNl7rw94S",
        "outputId": "f6e7eca1-65cd-4bc3-8a43-7df6c3e3e2f8"
      },
      "execution_count": 13,
      "outputs": [
        {
          "output_type": "display_data",
          "data": {
            "text/plain": [
              "<Figure size 640x480 with 1 Axes>"
            ],
            "image/png": "[encoded data removed]"
          },
          "metadata": {}
        }
      ]
    }
  ]
}