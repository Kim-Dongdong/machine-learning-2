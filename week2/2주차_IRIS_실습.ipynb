{
  "nbformat": 4,
  "nbformat_minor": 0,
  "metadata": {
    "colab": {
      "provenance": []
    },
    "kernelspec": {
      "name": "python3",
      "display_name": "Python 3"
    },
    "language_info": {
      "name": "python"
    }
  },
  "cells": [
    {
      "cell_type": "code",
      "source": [
        "# 필요한 라이브러리 임포트\n",
        "import pandas as pd\n",
        "import numpy as np\n",
        "from sklearn.model_selection import train_test_split\n",
        "from sklearn.ensemble import RandomForestClassifier\n",
        "from sklearn.linear_model import LogisticRegression\n",
        "from sklearn.metrics import accuracy_score, classification_report\n",
        "from google.colab import drive\n",
        "from sklearn.preprocessing import LabelEncoder\n",
        "from sklearn.tree import DecisionTreeClassifier\n",
        "from sklearn.svm import SVC\n",
        "\n",
        "file_path = '/content/drive/MyDrive/Colab Notebooks/iris.data'\n",
        "column_names = ['sepal_length', 'sepal_width', 'petal_length', 'petal_width', 'class']"
      ],
      "metadata": {
        "id": "Ajy4l0rd_SpF"
      },
      "execution_count": 27,
      "outputs": []
    },
    {
      "cell_type": "code",
      "source": [
        "df = pd.read_csv(file_path, header=None, names=column_names)"
      ],
      "metadata": {
        "id": "Altebi7p_S3w"
      },
      "execution_count": 28,
      "outputs": []
    },
    {
      "cell_type": "code",
      "source": [
        "# 파일 head 확인\n",
        "print(\"--- 원본 데이터 상위 5개 행 ---\")\n",
        "print(df.head())\n",
        "print(\"-\" * 30)"
      ],
      "metadata": {
        "colab": {
          "base_uri": "https://localhost:8080/"
        },
        "id": "V5_Zs-8p_S6E",
        "outputId": "7f162f98-b14f-4bb4-a916-deea141af2d3"
      },
      "execution_count": 29,
      "outputs": [
        {
          "output_type": "stream",
          "name": "stdout",
          "text": [
            "--- 원본 데이터 상위 5개 행 ---\n",
            "   sepal_length  sepal_width  petal_length  petal_width        class\n",
            "0           5.1          3.5           1.4          0.2  Iris-setosa\n",
            "1           4.9          3.0           1.4          0.2  Iris-setosa\n",
            "2           4.7          3.2           1.3          0.2  Iris-setosa\n",
            "3           4.6          3.1           1.5          0.2  Iris-setosa\n",
            "4           5.0          3.6           1.4          0.2  Iris-setosa\n",
            "------------------------------\n"
          ]
        }
      ]
    },
    {
      "cell_type": "code",
      "source": [
        "# 결측치 확인\n",
        "print(df.isnull().sum())"
      ],
      "metadata": {
        "colab": {
          "base_uri": "https://localhost:8080/"
        },
        "id": "Ck1NnpP3_zIQ",
        "outputId": "3ffca2a4-c4a3-452e-d4a3-b233c7e6fad0"
      },
      "execution_count": 30,
      "outputs": [
        {
          "output_type": "stream",
          "name": "stdout",
          "text": [
            "sepal_length    0\n",
            "sepal_width     0\n",
            "petal_length    0\n",
            "petal_width     0\n",
            "class           0\n",
            "dtype: int64\n"
          ]
        }
      ]
    },
    {
      "cell_type": "code",
      "source": [
        "# 데이터 전처리 및 분리\n",
        "# 특성(X)과 레이블(y) 분리\n",
        "X = df.drop('class', axis=1)\n",
        "y = df['class']"
      ],
      "metadata": {
        "id": "z0W3Jm10_maV"
      },
      "execution_count": 31,
      "outputs": []
    },
    {
      "cell_type": "code",
      "source": [
        "# 훈련 데이터, 테스트 데이터 분리\n",
        "X_train, X_test, y_train, y_test = train_test_split(X, y, test_size=0.2, random_state=42)\n",
        "\n",
        "print(f\"훈련 데이터 크기: {len(X_train)}\")\n",
        "print(f\"테스트 데이터 크기: {len(X_test)}\")"
      ],
      "metadata": {
        "colab": {
          "base_uri": "https://localhost:8080/"
        },
        "id": "Sgs3b5kS_r8h",
        "outputId": "0dbca2ff-46da-4963-94ab-87a19e9669d9"
      },
      "execution_count": 32,
      "outputs": [
        {
          "output_type": "stream",
          "name": "stdout",
          "text": [
            "훈련 데이터 크기: 120\n",
            "테스트 데이터 크기: 30\n"
          ]
        }
      ]
    },
    {
      "cell_type": "code",
      "source": [
        "# 랜덤 포레스트(Random Forest) 모델 학습 및 평가\n",
        "print(\"--- 랜덤 포레스트 분류 결과 ---\")\n",
        "# 모델 초기화 및 학습\n",
        "rf_model = RandomForestClassifier(n_estimators=100, random_state=42)\n",
        "rf_model.fit(X_train, y_train)\n",
        "\n",
        "# 예측\n",
        "y_pred_rf = rf_model.predict(X_test)\n",
        "\n",
        "# 성능 평가\n",
        "accuracy_rf = accuracy_score(y_test, y_pred_rf)\n",
        "report_rf = classification_report(y_test, y_pred_rf)\n",
        "\n",
        "print(f\"정확도 (Accuracy): {accuracy_rf:.2f}\")\n",
        "print(\"분류 보고서 (Classification Report):\\n\", report_rf)"
      ],
      "metadata": {
        "colab": {
          "base_uri": "https://localhost:8080/"
        },
        "id": "bcYPNNFA_r-v",
        "outputId": "82d536d6-0c0e-40fc-ced0-0b9fd262443e"
      },
      "execution_count": 33,
      "outputs": [
        {
          "output_type": "stream",
          "name": "stdout",
          "text": [
            "--- 랜덤 포레스트 분류 결과 ---\n",
            "정확도 (Accuracy): 1.00\n",
            "분류 보고서 (Classification Report):\n",
            "                  precision    recall  f1-score   support\n",
            "\n",
            "    Iris-setosa       1.00      1.00      1.00        10\n",
            "Iris-versicolor       1.00      1.00      1.00         9\n",
            " Iris-virginica       1.00      1.00      1.00        11\n",
            "\n",
            "       accuracy                           1.00        30\n",
            "      macro avg       1.00      1.00      1.00        30\n",
            "   weighted avg       1.00      1.00      1.00        30\n",
            "\n"
          ]
        }
      ]
    },
    {
      "cell_type": "code",
      "source": [
        "# 로지스틱 회귀(Logistic Regression) 모델 학습 및 평가\n",
        "print(\"--- 로지스틱 회귀 분류 결과 ---\")\n",
        "# 모델 초기화 및 학습\n",
        "lr_model = LogisticRegression(max_iter=200, random_state=42)\n",
        "lr_model.fit(X_train, y_train)\n",
        "\n",
        "# 예측\n",
        "y_pred_lr = lr_model.predict(X_test)\n",
        "\n",
        "# 성능 평가\n",
        "accuracy_lr = accuracy_score(y_test, y_pred_lr)\n",
        "report_lr = classification_report(y_test, y_pred_lr)\n",
        "\n",
        "print(f\"정확도 (Accuracy): {accuracy_lr:.2f}\")\n",
        "print(\"분류 보고서 (Classification Report):\\n\", report_lr)"
      ],
      "metadata": {
        "colab": {
          "base_uri": "https://localhost:8080/"
        },
        "id": "SN85pbdN_sA6",
        "outputId": "53457026-8daf-4aa4-bc82-2f2d2d588253"
      },
      "execution_count": 34,
      "outputs": [
        {
          "output_type": "stream",
          "name": "stdout",
          "text": [
            "--- 로지스틱 회귀 분류 결과 ---\n",
            "정확도 (Accuracy): 1.00\n",
            "분류 보고서 (Classification Report):\n",
            "                  precision    recall  f1-score   support\n",
            "\n",
            "    Iris-setosa       1.00      1.00      1.00        10\n",
            "Iris-versicolor       1.00      1.00      1.00         9\n",
            " Iris-virginica       1.00      1.00      1.00        11\n",
            "\n",
            "       accuracy                           1.00        30\n",
            "      macro avg       1.00      1.00      1.00        30\n",
            "   weighted avg       1.00      1.00      1.00        30\n",
            "\n"
          ]
        }
      ]
    },
    {
      "cell_type": "code",
      "source": [
        "# 1. 결정 트리(DT) 모델 학습 및 평가\n",
        "dt_model = DecisionTreeClassifier(random_state=42)\n",
        "dt_model.fit(X_train, y_train)\n",
        "dt_pred = dt_model.predict(X_test)\n",
        "dt_acc = accuracy_score(y_test, dt_pred)\n",
        "print(f\"Decision Tree Accuracy: {dt_acc:.4f}\")\n",
        "\n",
        "# 2. 랜덤 포레스트(RF) 모델 학습 및 평가\n",
        "rf_model = RandomForestClassifier(random_state=42)\n",
        "rf_model.fit(X_train, y_train)\n",
        "rf_pred = rf_model.predict(X_test)\n",
        "rf_acc = accuracy_score(y_test, rf_pred)\n",
        "print(f\"Random Forest Accuracy: {rf_acc:.4f}\")\n",
        "\n",
        "# 3. 서포트 벡터 머신(SVM) 모델 학습 및 평가\n",
        "svm_model = SVC(random_state=42)\n",
        "svm_model.fit(X_train, y_train)\n",
        "svm_pred = svm_model.predict(X_test)\n",
        "svm_acc = accuracy_score(y_test, svm_pred)\n",
        "print(f\"SVM Accuracy: {svm_acc:.4f}\")\n",
        "\n",
        "# 4. 로지스틱 회귀(LR) 모델 학습 및 평가\n",
        "lr_model = LogisticRegression(max_iter=200, random_state=42)\n",
        "lr_model.fit(X_train, y_train)\n",
        "lr_pred = lr_model.predict(X_test)\n",
        "lr_acc = accuracy_score(y_test, lr_pred)\n",
        "print(f\"Logistic Regression Accuracy: {lr_acc:.4f}\")"
      ],
      "metadata": {
        "colab": {
          "base_uri": "https://localhost:8080/"
        },
        "id": "dwxVyPU2_sC4",
        "outputId": "76e7b62b-a125-42b0-a712-a24a3ac8f2ad"
      },
      "execution_count": 35,
      "outputs": [
        {
          "output_type": "stream",
          "name": "stdout",
          "text": [
            "Decision Tree Accuracy: 1.0000\n",
            "Random Forest Accuracy: 1.0000\n",
            "SVM Accuracy: 1.0000\n",
            "Logistic Regression Accuracy: 1.0000\n"
          ]
        }
      ]
    },
    {
      "cell_type": "code",
      "source": [
        "# 새로운 데이터로 예측\n",
        "print(\"--- 새로운 데이터로 예측 ---\")\n",
        "new_data_features = np.array([[5.1, 3.5, 1.4, 0.2]])\n",
        "new_data_df = pd.DataFrame(new_data_features, columns=column_names[:-1])\n",
        "\n",
        "# 랜덤 포레스트로 예측\n",
        "rf_prediction = rf_model.predict(new_data_df)\n",
        "print(f\"랜덤 포레스트 모델의 예측 결과: {rf_prediction[0]}\")\n",
        "\n",
        "# 로지스틱 회귀로 예측\n",
        "lr_prediction = lr_model.predict(new_data_df)\n",
        "print(f\"로지스틱 회귀 모델의 예측 결과: {lr_prediction[0]}\")\n",
        "print(\"-\" * 30)"
      ],
      "metadata": {
        "colab": {
          "base_uri": "https://localhost:8080/"
        },
        "id": "adZZnDEx_sE_",
        "outputId": "a872d712-f907-4514-a44b-3731fdd309e5"
      },
      "execution_count": 36,
      "outputs": [
        {
          "output_type": "stream",
          "name": "stdout",
          "text": [
            "--- 새로운 데이터로 예측 ---\n",
            "랜덤 포레스트 모델의 예측 결과: Iris-setosa\n",
            "로지스틱 회귀 모델의 예측 결과: Iris-setosa\n",
            "------------------------------\n"
          ]
        }
      ]
    }
  ]
}